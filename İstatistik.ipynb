{
 "cells": [
  {
   "cell_type": "code",
   "execution_count": 1,
   "id": "251454f2",
   "metadata": {},
   "outputs": [],
   "source": [
    "# Central Tendency\n",
    "\n",
    "import numpy as np\n",
    "from scipy import stats"
   ]
  },
  {
   "cell_type": "code",
   "execution_count": 2,
   "id": "377d7da7",
   "metadata": {},
   "outputs": [],
   "source": [
    "salary = [102, 33, 26, 27, 30, 25, 33, 33, 24]"
   ]
  },
  {
   "cell_type": "code",
   "execution_count": 3,
   "id": "dbad3ba5",
   "metadata": {},
   "outputs": [],
   "source": [
    "mean_salary = np.mean(salary)"
   ]
  },
  {
   "cell_type": "code",
   "execution_count": 4,
   "id": "90a58a7f",
   "metadata": {},
   "outputs": [
    {
     "name": "stdout",
     "output_type": "stream",
     "text": [
      "mean:  37.0\n"
     ]
    }
   ],
   "source": [
    "print(\"mean: \", mean_salary)"
   ]
  },
  {
   "cell_type": "code",
   "execution_count": 5,
   "id": "7158af29",
   "metadata": {},
   "outputs": [],
   "source": [
    "median_salary = np.median(salary)"
   ]
  },
  {
   "cell_type": "code",
   "execution_count": 6,
   "id": "18e14d7b",
   "metadata": {},
   "outputs": [
    {
     "name": "stdout",
     "output_type": "stream",
     "text": [
      "median:  30.0\n"
     ]
    }
   ],
   "source": [
    "print(\"median: \", median_salary)"
   ]
  },
  {
   "cell_type": "code",
   "execution_count": 7,
   "id": "007e7dd9",
   "metadata": {},
   "outputs": [],
   "source": [
    "mode_salary = stats.mode(salary)"
   ]
  },
  {
   "cell_type": "code",
   "execution_count": 8,
   "id": "94260d06",
   "metadata": {},
   "outputs": [
    {
     "name": "stdout",
     "output_type": "stream",
     "text": [
      "mode:  ModeResult(mode=array([33]), count=array([3]))\n"
     ]
    }
   ],
   "source": [
    "print(\"mode: \", mode_salary)"
   ]
  },
  {
   "cell_type": "code",
   "execution_count": 9,
   "id": "31b28da1",
   "metadata": {},
   "outputs": [],
   "source": [
    "# min & max & range"
   ]
  },
  {
   "cell_type": "code",
   "execution_count": 10,
   "id": "9c089b2c",
   "metadata": {},
   "outputs": [],
   "source": [
    "data = [32, 36, 46, 47, 56, 69, 75, 79, 79, 88, 89, 91, 92, 93, 96, 97, 101, 105, 112, 116]"
   ]
  },
  {
   "cell_type": "code",
   "execution_count": 11,
   "id": "7bab9eec",
   "metadata": {},
   "outputs": [],
   "source": [
    "min = np.min(data)\n",
    "max = np.max(data)"
   ]
  },
  {
   "cell_type": "code",
   "execution_count": 12,
   "id": "6b2331cf",
   "metadata": {},
   "outputs": [],
   "source": [
    "range = max - min"
   ]
  },
  {
   "cell_type": "code",
   "execution_count": 13,
   "id": "609bc544",
   "metadata": {},
   "outputs": [
    {
     "name": "stdout",
     "output_type": "stream",
     "text": [
      "32 116 84\n"
     ]
    }
   ],
   "source": [
    "print(min, max, range)"
   ]
  },
  {
   "cell_type": "code",
   "execution_count": 14,
   "id": "8b67a74e",
   "metadata": {},
   "outputs": [],
   "source": [
    "# O1,Q2,Q3 & IQR"
   ]
  },
  {
   "cell_type": "code",
   "execution_count": 15,
   "id": "f09bed86",
   "metadata": {},
   "outputs": [],
   "source": [
    "data = [32, 36, 46, 47, 56, 69, 75, 79, 80, 88, 89]"
   ]
  },
  {
   "cell_type": "code",
   "execution_count": 17,
   "id": "0009627b",
   "metadata": {},
   "outputs": [],
   "source": [
    "q1 = np.percentile(data, 25)\n",
    "q2 = np.percentile(data, 50)\n",
    "q3 = np.percentile(data, 75)"
   ]
  },
  {
   "cell_type": "code",
   "execution_count": 18,
   "id": "79ee8900",
   "metadata": {},
   "outputs": [],
   "source": [
    "iqr = stats.iqr(data)"
   ]
  },
  {
   "cell_type": "code",
   "execution_count": 19,
   "id": "7f905e60",
   "metadata": {},
   "outputs": [
    {
     "name": "stdout",
     "output_type": "stream",
     "text": [
      "46.5 69.0 79.5 33.0\n"
     ]
    }
   ],
   "source": [
    "print(q1, q2, q3, iqr)"
   ]
  },
  {
   "cell_type": "code",
   "execution_count": 21,
   "id": "b36ec9e9",
   "metadata": {},
   "outputs": [],
   "source": [
    "import matplotlib.pyplot as plt"
   ]
  },
  {
   "cell_type": "code",
   "execution_count": 23,
   "id": "2baec0e7",
   "metadata": {},
   "outputs": [
    {
     "data": {
      "image/png": "[encoded data removed]",
      "text/plain": [
       "<Figure size 432x288 with 1 Axes>"
      ]
     },
     "metadata": {
      "needs_background": "light"
     },
     "output_type": "display_data"
    }
   ],
   "source": [
    "plt.boxplot(data);"
   ]
  },
  {
   "cell_type": "code",
   "execution_count": 24,
   "id": "eaf70dfc",
   "metadata": {},
   "outputs": [],
   "source": [
    "# Standart Deviation & Variance"
   ]
  },
  {
   "cell_type": "code",
   "execution_count": 25,
   "id": "b9353b86",
   "metadata": {},
   "outputs": [
    {
     "data": {
      "text/plain": [
       "391.68595041322317"
      ]
     },
     "execution_count": 25,
     "metadata": {},
     "output_type": "execute_result"
    }
   ],
   "source": [
    "np.var(data)"
   ]
  },
  {
   "cell_type": "code",
   "execution_count": 26,
   "id": "04828760",
   "metadata": {},
   "outputs": [
    {
     "data": {
      "text/plain": [
       "19.791057334392804"
      ]
     },
     "execution_count": 26,
     "metadata": {},
     "output_type": "execute_result"
    }
   ],
   "source": [
    "np.std(data)"
   ]
  },
  {
   "cell_type": "code",
   "execution_count": 27,
   "id": "3b7737ca",
   "metadata": {},
   "outputs": [
    {
     "data": {
      "text/plain": [
       "19.791057334392804"
      ]
     },
     "execution_count": 27,
     "metadata": {},
     "output_type": "execute_result"
    }
   ],
   "source": [
    "np.sqrt(np.var(data))"
   ]
  },
  {
   "cell_type": "code",
   "execution_count": null,
   "id": "62ce19b3",
   "metadata": {},
   "outputs": [],
   "source": []
  }
 ],
 "metadata": {
  "kernelspec": {
   "display_name": "Python 3 (ipykernel)",
   "language": "python",
   "name": "python3"
  },
  "language_info": {
   "codemirror_mode": {
    "name": "ipython",
    "version": 3
   },
   "file_extension": ".py",
   "mimetype": "text/x-python",
   "name": "python",
   "nbconvert_exporter": "python",
   "pygments_lexer": "ipython3",
   "version": "3.9.7"
  }
 },
 "nbformat": 4,
 "nbformat_minor": 5
}
